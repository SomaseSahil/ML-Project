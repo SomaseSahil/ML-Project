{
 "cells": [
  {
   "cell_type": "code",
   "execution_count": 27,
   "id": "ad74be20",
   "metadata": {},
   "outputs": [],
   "source": [
    "import numpy as np\n",
    "import pandas as pd \n",
    "import matplotlib.pyplot as plt"
   ]
  },
  {
   "cell_type": "code",
   "execution_count": 14,
   "id": "fc1cde58",
   "metadata": {},
   "outputs": [],
   "source": [
    "df = pd.read_csv(\"../dataset/StudentExamScores.csv\")"
   ]
  },
  {
   "cell_type": "code",
   "execution_count": 15,
   "id": "3af69d5d",
   "metadata": {},
   "outputs": [
    {
     "data": {
      "text/html": [
       "<div>\n",
       "<style scoped>\n",
       "    .dataframe tbody tr th:only-of-type {\n",
       "        vertical-align: middle;\n",
       "    }\n",
       "\n",
       "    .dataframe tbody tr th {\n",
       "        vertical-align: top;\n",
       "    }\n",
       "\n",
       "    .dataframe thead th {\n",
       "        text-align: right;\n",
       "    }\n",
       "</style>\n",
       "<table border=\"1\" class=\"dataframe\">\n",
       "  <thead>\n",
       "    <tr style=\"text-align: right;\">\n",
       "      <th></th>\n",
       "      <th>StudyHours</th>\n",
       "      <th>PrevScore</th>\n",
       "      <th>Attendence</th>\n",
       "      <th>FinalScore</th>\n",
       "    </tr>\n",
       "  </thead>\n",
       "  <tbody>\n",
       "    <tr>\n",
       "      <th>0</th>\n",
       "      <td>27</td>\n",
       "      <td>83</td>\n",
       "      <td>90</td>\n",
       "      <td>87</td>\n",
       "    </tr>\n",
       "    <tr>\n",
       "      <th>1</th>\n",
       "      <td>47</td>\n",
       "      <td>92</td>\n",
       "      <td>93</td>\n",
       "      <td>90</td>\n",
       "    </tr>\n",
       "    <tr>\n",
       "      <th>2</th>\n",
       "      <td>13</td>\n",
       "      <td>86</td>\n",
       "      <td>70</td>\n",
       "      <td>94</td>\n",
       "    </tr>\n",
       "    <tr>\n",
       "      <th>3</th>\n",
       "      <td>3</td>\n",
       "      <td>79</td>\n",
       "      <td>83</td>\n",
       "      <td>86</td>\n",
       "    </tr>\n",
       "    <tr>\n",
       "      <th>4</th>\n",
       "      <td>10</td>\n",
       "      <td>72</td>\n",
       "      <td>83</td>\n",
       "      <td>76</td>\n",
       "    </tr>\n",
       "  </tbody>\n",
       "</table>\n",
       "</div>"
      ],
      "text/plain": [
       "   StudyHours  PrevScore  Attendence  FinalScore\n",
       "0          27         83          90          87\n",
       "1          47         92          93          90\n",
       "2          13         86          70          94\n",
       "3           3         79          83          86\n",
       "4          10         72          83          76"
      ]
     },
     "execution_count": 15,
     "metadata": {},
     "output_type": "execute_result"
    }
   ],
   "source": [
    "df.head()"
   ]
  },
  {
   "cell_type": "code",
   "execution_count": 16,
   "id": "f829405a",
   "metadata": {},
   "outputs": [
    {
     "data": {
      "text/html": [
       "<div>\n",
       "<style scoped>\n",
       "    .dataframe tbody tr th:only-of-type {\n",
       "        vertical-align: middle;\n",
       "    }\n",
       "\n",
       "    .dataframe tbody tr th {\n",
       "        vertical-align: top;\n",
       "    }\n",
       "\n",
       "    .dataframe thead th {\n",
       "        text-align: right;\n",
       "    }\n",
       "</style>\n",
       "<table border=\"1\" class=\"dataframe\">\n",
       "  <thead>\n",
       "    <tr style=\"text-align: right;\">\n",
       "      <th></th>\n",
       "      <th>StudyHours</th>\n",
       "      <th>PrevScore</th>\n",
       "      <th>Attendence</th>\n",
       "      <th>FinalScore</th>\n",
       "    </tr>\n",
       "  </thead>\n",
       "  <tbody>\n",
       "    <tr>\n",
       "      <th>1995</th>\n",
       "      <td>30</td>\n",
       "      <td>79</td>\n",
       "      <td>93</td>\n",
       "      <td>82</td>\n",
       "    </tr>\n",
       "    <tr>\n",
       "      <th>1996</th>\n",
       "      <td>20</td>\n",
       "      <td>74</td>\n",
       "      <td>93</td>\n",
       "      <td>73</td>\n",
       "    </tr>\n",
       "    <tr>\n",
       "      <th>1997</th>\n",
       "      <td>14</td>\n",
       "      <td>81</td>\n",
       "      <td>83</td>\n",
       "      <td>78</td>\n",
       "    </tr>\n",
       "    <tr>\n",
       "      <th>1998</th>\n",
       "      <td>5</td>\n",
       "      <td>88</td>\n",
       "      <td>67</td>\n",
       "      <td>75</td>\n",
       "    </tr>\n",
       "    <tr>\n",
       "      <th>1999</th>\n",
       "      <td>27</td>\n",
       "      <td>87</td>\n",
       "      <td>83</td>\n",
       "      <td>100</td>\n",
       "    </tr>\n",
       "  </tbody>\n",
       "</table>\n",
       "</div>"
      ],
      "text/plain": [
       "      StudyHours  PrevScore  Attendence  FinalScore\n",
       "1995          30         79          93          82\n",
       "1996          20         74          93          73\n",
       "1997          14         81          83          78\n",
       "1998           5         88          67          75\n",
       "1999          27         87          83         100"
      ]
     },
     "execution_count": 16,
     "metadata": {},
     "output_type": "execute_result"
    }
   ],
   "source": [
    "df.tail()"
   ]
  },
  {
   "cell_type": "code",
   "execution_count": 18,
   "id": "ae652603",
   "metadata": {},
   "outputs": [
    {
     "data": {
      "text/html": [
       "<div>\n",
       "<style scoped>\n",
       "    .dataframe tbody tr th:only-of-type {\n",
       "        vertical-align: middle;\n",
       "    }\n",
       "\n",
       "    .dataframe tbody tr th {\n",
       "        vertical-align: top;\n",
       "    }\n",
       "\n",
       "    .dataframe thead th {\n",
       "        text-align: right;\n",
       "    }\n",
       "</style>\n",
       "<table border=\"1\" class=\"dataframe\">\n",
       "  <thead>\n",
       "    <tr style=\"text-align: right;\">\n",
       "      <th></th>\n",
       "      <th>StudyHours</th>\n",
       "      <th>PrevScore</th>\n",
       "      <th>Attendence</th>\n",
       "      <th>FinalScore</th>\n",
       "    </tr>\n",
       "  </thead>\n",
       "  <tbody>\n",
       "    <tr>\n",
       "      <th>count</th>\n",
       "      <td>2000.000000</td>\n",
       "      <td>2000.000000</td>\n",
       "      <td>2000.000000</td>\n",
       "      <td>2000.000000</td>\n",
       "    </tr>\n",
       "    <tr>\n",
       "      <th>mean</th>\n",
       "      <td>17.755500</td>\n",
       "      <td>80.503500</td>\n",
       "      <td>87.809500</td>\n",
       "      <td>80.888000</td>\n",
       "    </tr>\n",
       "    <tr>\n",
       "      <th>std</th>\n",
       "      <td>12.129604</td>\n",
       "      <td>6.747129</td>\n",
       "      <td>8.753315</td>\n",
       "      <td>11.637705</td>\n",
       "    </tr>\n",
       "    <tr>\n",
       "      <th>min</th>\n",
       "      <td>0.000000</td>\n",
       "      <td>55.000000</td>\n",
       "      <td>67.000000</td>\n",
       "      <td>60.000000</td>\n",
       "    </tr>\n",
       "    <tr>\n",
       "      <th>25%</th>\n",
       "      <td>5.000000</td>\n",
       "      <td>76.000000</td>\n",
       "      <td>83.000000</td>\n",
       "      <td>71.000000</td>\n",
       "    </tr>\n",
       "    <tr>\n",
       "      <th>50%</th>\n",
       "      <td>18.000000</td>\n",
       "      <td>80.000000</td>\n",
       "      <td>90.000000</td>\n",
       "      <td>81.000000</td>\n",
       "    </tr>\n",
       "    <tr>\n",
       "      <th>75%</th>\n",
       "      <td>28.000000</td>\n",
       "      <td>85.000000</td>\n",
       "      <td>93.000000</td>\n",
       "      <td>91.000000</td>\n",
       "    </tr>\n",
       "    <tr>\n",
       "      <th>max</th>\n",
       "      <td>50.000000</td>\n",
       "      <td>98.000000</td>\n",
       "      <td>100.000000</td>\n",
       "      <td>100.000000</td>\n",
       "    </tr>\n",
       "  </tbody>\n",
       "</table>\n",
       "</div>"
      ],
      "text/plain": [
       "        StudyHours    PrevScore   Attendence   FinalScore\n",
       "count  2000.000000  2000.000000  2000.000000  2000.000000\n",
       "mean     17.755500    80.503500    87.809500    80.888000\n",
       "std      12.129604     6.747129     8.753315    11.637705\n",
       "min       0.000000    55.000000    67.000000    60.000000\n",
       "25%       5.000000    76.000000    83.000000    71.000000\n",
       "50%      18.000000    80.000000    90.000000    81.000000\n",
       "75%      28.000000    85.000000    93.000000    91.000000\n",
       "max      50.000000    98.000000   100.000000   100.000000"
      ]
     },
     "execution_count": 18,
     "metadata": {},
     "output_type": "execute_result"
    }
   ],
   "source": [
    "df.describe()"
   ]
  },
  {
   "cell_type": "code",
   "execution_count": 19,
   "id": "37ca396c",
   "metadata": {},
   "outputs": [
    {
     "name": "stdout",
     "output_type": "stream",
     "text": [
      "<class 'pandas.core.frame.DataFrame'>\n",
      "RangeIndex: 2000 entries, 0 to 1999\n",
      "Data columns (total 4 columns):\n",
      " #   Column      Non-Null Count  Dtype\n",
      "---  ------      --------------  -----\n",
      " 0   StudyHours  2000 non-null   int64\n",
      " 1   PrevScore   2000 non-null   int64\n",
      " 2   Attendence  2000 non-null   int64\n",
      " 3   FinalScore  2000 non-null   int64\n",
      "dtypes: int64(4)\n",
      "memory usage: 62.6 KB\n"
     ]
    }
   ],
   "source": [
    "df.info()"
   ]
  },
  {
   "cell_type": "code",
   "execution_count": null,
   "id": "1fd0375f",
   "metadata": {},
   "outputs": [
    {
     "data": {
      "text/html": [
       "<div>\n",
       "<style scoped>\n",
       "    .dataframe tbody tr th:only-of-type {\n",
       "        vertical-align: middle;\n",
       "    }\n",
       "\n",
       "    .dataframe tbody tr th {\n",
       "        vertical-align: top;\n",
       "    }\n",
       "\n",
       "    .dataframe thead th {\n",
       "        text-align: right;\n",
       "    }\n",
       "</style>\n",
       "<table border=\"1\" class=\"dataframe\">\n",
       "  <thead>\n",
       "    <tr style=\"text-align: right;\">\n",
       "      <th></th>\n",
       "      <th>StudyHours</th>\n",
       "      <th>PrevScore</th>\n",
       "      <th>Attendence</th>\n",
       "      <th>FinalScore</th>\n",
       "    </tr>\n",
       "  </thead>\n",
       "  <tbody>\n",
       "    <tr>\n",
       "      <th>1057</th>\n",
       "      <td>32</td>\n",
       "      <td>81</td>\n",
       "      <td>97</td>\n",
       "      <td>75</td>\n",
       "    </tr>\n",
       "    <tr>\n",
       "      <th>1303</th>\n",
       "      <td>27</td>\n",
       "      <td>87</td>\n",
       "      <td>83</td>\n",
       "      <td>87</td>\n",
       "    </tr>\n",
       "    <tr>\n",
       "      <th>1429</th>\n",
       "      <td>35</td>\n",
       "      <td>94</td>\n",
       "      <td>97</td>\n",
       "      <td>99</td>\n",
       "    </tr>\n",
       "    <tr>\n",
       "      <th>1562</th>\n",
       "      <td>3</td>\n",
       "      <td>79</td>\n",
       "      <td>83</td>\n",
       "      <td>86</td>\n",
       "    </tr>\n",
       "    <tr>\n",
       "      <th>1675</th>\n",
       "      <td>31</td>\n",
       "      <td>79</td>\n",
       "      <td>90</td>\n",
       "      <td>100</td>\n",
       "    </tr>\n",
       "    <tr>\n",
       "      <th>1678</th>\n",
       "      <td>5</td>\n",
       "      <td>85</td>\n",
       "      <td>90</td>\n",
       "      <td>80</td>\n",
       "    </tr>\n",
       "    <tr>\n",
       "      <th>1754</th>\n",
       "      <td>35</td>\n",
       "      <td>93</td>\n",
       "      <td>90</td>\n",
       "      <td>92</td>\n",
       "    </tr>\n",
       "    <tr>\n",
       "      <th>1787</th>\n",
       "      <td>34</td>\n",
       "      <td>83</td>\n",
       "      <td>93</td>\n",
       "      <td>94</td>\n",
       "    </tr>\n",
       "    <tr>\n",
       "      <th>1799</th>\n",
       "      <td>25</td>\n",
       "      <td>78</td>\n",
       "      <td>83</td>\n",
       "      <td>68</td>\n",
       "    </tr>\n",
       "    <tr>\n",
       "      <th>1918</th>\n",
       "      <td>35</td>\n",
       "      <td>93</td>\n",
       "      <td>90</td>\n",
       "      <td>90</td>\n",
       "    </tr>\n",
       "    <tr>\n",
       "      <th>1952</th>\n",
       "      <td>35</td>\n",
       "      <td>91</td>\n",
       "      <td>93</td>\n",
       "      <td>88</td>\n",
       "    </tr>\n",
       "    <tr>\n",
       "      <th>1977</th>\n",
       "      <td>5</td>\n",
       "      <td>80</td>\n",
       "      <td>67</td>\n",
       "      <td>76</td>\n",
       "    </tr>\n",
       "  </tbody>\n",
       "</table>\n",
       "</div>"
      ],
      "text/plain": [
       "      StudyHours  PrevScore  Attendence  FinalScore\n",
       "1057          32         81          97          75\n",
       "1303          27         87          83          87\n",
       "1429          35         94          97          99\n",
       "1562           3         79          83          86\n",
       "1675          31         79          90         100\n",
       "1678           5         85          90          80\n",
       "1754          35         93          90          92\n",
       "1787          34         83          93          94\n",
       "1799          25         78          83          68\n",
       "1918          35         93          90          90\n",
       "1952          35         91          93          88\n",
       "1977           5         80          67          76"
      ]
     },
     "execution_count": 20,
     "metadata": {},
     "output_type": "execute_result"
    }
   ],
   "source": [
    "# 1. Removing duplicates from dataset\n",
    "duplicates = df[df.duplicated()]\n",
    "duplicates"
   ]
  },
  {
   "cell_type": "code",
   "execution_count": 21,
   "id": "cab2acf6",
   "metadata": {},
   "outputs": [],
   "source": [
    "df.drop_duplicates(inplace=True)"
   ]
  },
  {
   "cell_type": "code",
   "execution_count": 22,
   "id": "a605c72d",
   "metadata": {},
   "outputs": [
    {
     "data": {
      "text/html": [
       "<div>\n",
       "<style scoped>\n",
       "    .dataframe tbody tr th:only-of-type {\n",
       "        vertical-align: middle;\n",
       "    }\n",
       "\n",
       "    .dataframe tbody tr th {\n",
       "        vertical-align: top;\n",
       "    }\n",
       "\n",
       "    .dataframe thead th {\n",
       "        text-align: right;\n",
       "    }\n",
       "</style>\n",
       "<table border=\"1\" class=\"dataframe\">\n",
       "  <thead>\n",
       "    <tr style=\"text-align: right;\">\n",
       "      <th></th>\n",
       "      <th>StudyHours</th>\n",
       "      <th>PrevScore</th>\n",
       "      <th>Attendence</th>\n",
       "      <th>FinalScore</th>\n",
       "    </tr>\n",
       "  </thead>\n",
       "  <tbody>\n",
       "  </tbody>\n",
       "</table>\n",
       "</div>"
      ],
      "text/plain": [
       "Empty DataFrame\n",
       "Columns: [StudyHours, PrevScore, Attendence, FinalScore]\n",
       "Index: []"
      ]
     },
     "execution_count": 22,
     "metadata": {},
     "output_type": "execute_result"
    }
   ],
   "source": [
    "df[df.duplicated()]"
   ]
  },
  {
   "cell_type": "code",
   "execution_count": 23,
   "id": "5bd4d52b",
   "metadata": {},
   "outputs": [
    {
     "data": {
      "text/plain": [
       "StudyHours    0\n",
       "PrevScore     0\n",
       "Attendence    0\n",
       "FinalScore    0\n",
       "dtype: int64"
      ]
     },
     "execution_count": 23,
     "metadata": {},
     "output_type": "execute_result"
    }
   ],
   "source": [
    "# 2. Handling missing values\n",
    "df.isnull().sum()"
   ]
  },
  {
   "cell_type": "code",
   "execution_count": 24,
   "id": "8b109a36",
   "metadata": {},
   "outputs": [],
   "source": [
    "# 3. Deleting unnecessary rows and columns \n",
    "\n",
    "columns = []\n",
    "df = df.drop(columns=columns, axis=1)\n",
    "# No unnecessary columns are present"
   ]
  },
  {
   "cell_type": "code",
   "execution_count": 25,
   "id": "2624ba9b",
   "metadata": {},
   "outputs": [],
   "source": [
    "column = [\"StudyHours\", \"PrevScore\", \"Attendence\"]\n",
    "\n",
    "for col in column:\n",
    "    Q1 = df[col].quantile(0.25)\n",
    "    Q3 = df[col].quantile(0.75)\n",
    "    IQR = Q3 - Q1\n",
    "\n",
    "    lower_bound = Q1 - 1.5 * IQR\n",
    "    upper_bound = Q3 + 1.5 * IQR\n",
    "    df = df[(df[col] > lower_bound) & (df[col] < upper_bound)]"
   ]
  },
  {
   "cell_type": "code",
   "execution_count": 28,
   "id": "61f7529c",
   "metadata": {},
   "outputs": [
    {
     "data": {
      "image/png": "[encoded data removed]",
      "text/plain": [
       "<Figure size 1000x500 with 1 Axes>"
      ]
     },
     "metadata": {},
     "output_type": "display_data"
    }
   ],
   "source": [
    "plt.figure(figsize=(10,5))\n",
    "plt.boxplot(df)\n",
    "plt.show()"
   ]
  },
  {
   "cell_type": "code",
   "execution_count": 29,
   "id": "5a6415c5",
   "metadata": {},
   "outputs": [],
   "source": [
    "from sklearn.linear_model import LinearRegression\n",
    "model = LinearRegression()"
   ]
  },
  {
   "cell_type": "code",
   "execution_count": 32,
   "id": "8669ff49",
   "metadata": {},
   "outputs": [],
   "source": [
    "a = df[[\"StudyHours\", \"PrevScore\", \"Attendence\"]]"
   ]
  },
  {
   "cell_type": "code",
   "execution_count": 33,
   "id": "0cef96d4",
   "metadata": {},
   "outputs": [],
   "source": [
    "b = df['FinalScore']"
   ]
  },
  {
   "cell_type": "code",
   "execution_count": 34,
   "id": "6d4d2401",
   "metadata": {},
   "outputs": [],
   "source": [
    "from sklearn.model_selection import train_test_split\n",
    "\n",
    "xtrain, xtest, ytrain, ytest = train_test_split(a, b, test_size=0.25, random_state=45)"
   ]
  },
  {
   "cell_type": "code",
   "execution_count": 35,
   "id": "20552aa4",
   "metadata": {},
   "outputs": [],
   "source": [
    "from sklearn.preprocessing import StandardScaler\n",
    "\n",
    "scaler = StandardScaler()"
   ]
  },
  {
   "cell_type": "code",
   "execution_count": 36,
   "id": "17b60638",
   "metadata": {},
   "outputs": [],
   "source": [
    "xtrain = scaler.fit_transform(xtrain)\n",
    "xtest = scaler.transform(xtest)"
   ]
  },
  {
   "cell_type": "code",
   "execution_count": 37,
   "id": "59b5ce24",
   "metadata": {},
   "outputs": [
    {
     "data": {
      "text/html": [
       "<style>#sk-container-id-1 {color: black;}#sk-container-id-1 pre{padding: 0;}#sk-container-id-1 div.sk-toggleable {background-color: white;}#sk-container-id-1 label.sk-toggleable__label {cursor: pointer;display: block;width: 100%;margin-bottom: 0;padding: 0.3em;box-sizing: border-box;text-align: center;}#sk-container-id-1 label.sk-toggleable__label-arrow:before {content: \"▸\";float: left;margin-right: 0.25em;color: #696969;}#sk-container-id-1 label.sk-toggleable__label-arrow:hover:before {color: black;}#sk-container-id-1 div.sk-estimator:hover label.sk-toggleable__label-arrow:before {color: black;}#sk-container-id-1 div.sk-toggleable__content {max-height: 0;max-width: 0;overflow: hidden;text-align: left;background-color: #f0f8ff;}#sk-container-id-1 div.sk-toggleable__content pre {margin: 0.2em;color: black;border-radius: 0.25em;background-color: #f0f8ff;}#sk-container-id-1 input.sk-toggleable__control:checked~div.sk-toggleable__content {max-height: 200px;max-width: 100%;overflow: auto;}#sk-container-id-1 input.sk-toggleable__control:checked~label.sk-toggleable__label-arrow:before {content: \"▾\";}#sk-container-id-1 div.sk-estimator input.sk-toggleable__control:checked~label.sk-toggleable__label {background-color: #d4ebff;}#sk-container-id-1 div.sk-label input.sk-toggleable__control:checked~label.sk-toggleable__label {background-color: #d4ebff;}#sk-container-id-1 input.sk-hidden--visually {border: 0;clip: rect(1px 1px 1px 1px);clip: rect(1px, 1px, 1px, 1px);height: 1px;margin: -1px;overflow: hidden;padding: 0;position: absolute;width: 1px;}#sk-container-id-1 div.sk-estimator {font-family: monospace;background-color: #f0f8ff;border: 1px dotted black;border-radius: 0.25em;box-sizing: border-box;margin-bottom: 0.5em;}#sk-container-id-1 div.sk-estimator:hover {background-color: #d4ebff;}#sk-container-id-1 div.sk-parallel-item::after {content: \"\";width: 100%;border-bottom: 1px solid gray;flex-grow: 1;}#sk-container-id-1 div.sk-label:hover label.sk-toggleable__label {background-color: #d4ebff;}#sk-container-id-1 div.sk-serial::before {content: \"\";position: absolute;border-left: 1px solid gray;box-sizing: border-box;top: 0;bottom: 0;left: 50%;z-index: 0;}#sk-container-id-1 div.sk-serial {display: flex;flex-direction: column;align-items: center;background-color: white;padding-right: 0.2em;padding-left: 0.2em;position: relative;}#sk-container-id-1 div.sk-item {position: relative;z-index: 1;}#sk-container-id-1 div.sk-parallel {display: flex;align-items: stretch;justify-content: center;background-color: white;position: relative;}#sk-container-id-1 div.sk-item::before, #sk-container-id-1 div.sk-parallel-item::before {content: \"\";position: absolute;border-left: 1px solid gray;box-sizing: border-box;top: 0;bottom: 0;left: 50%;z-index: -1;}#sk-container-id-1 div.sk-parallel-item {display: flex;flex-direction: column;z-index: 1;position: relative;background-color: white;}#sk-container-id-1 div.sk-parallel-item:first-child::after {align-self: flex-end;width: 50%;}#sk-container-id-1 div.sk-parallel-item:last-child::after {align-self: flex-start;width: 50%;}#sk-container-id-1 div.sk-parallel-item:only-child::after {width: 0;}#sk-container-id-1 div.sk-dashed-wrapped {border: 1px dashed gray;margin: 0 0.4em 0.5em 0.4em;box-sizing: border-box;padding-bottom: 0.4em;background-color: white;}#sk-container-id-1 div.sk-label label {font-family: monospace;font-weight: bold;display: inline-block;line-height: 1.2em;}#sk-container-id-1 div.sk-label-container {text-align: center;}#sk-container-id-1 div.sk-container {/* jupyter's `normalize.less` sets `[hidden] { display: none; }` but bootstrap.min.css set `[hidden] { display: none !important; }` so we also need the `!important` here to be able to override the default hidden behavior on the sphinx rendered scikit-learn.org. See: https://github.com/scikit-learn/scikit-learn/issues/21755 */display: inline-block !important;position: relative;}#sk-container-id-1 div.sk-text-repr-fallback {display: none;}</style><div id=\"sk-container-id-1\" class=\"sk-top-container\"><div class=\"sk-text-repr-fallback\"><pre>LinearRegression()</pre><b>In a Jupyter environment, please rerun this cell to show the HTML representation or trust the notebook. <br />On GitHub, the HTML representation is unable to render, please try loading this page with nbviewer.org.</b></div><div class=\"sk-container\" hidden><div class=\"sk-item\"><div class=\"sk-estimator sk-toggleable\"><input class=\"sk-toggleable__control sk-hidden--visually\" id=\"sk-estimator-id-1\" type=\"checkbox\" checked><label for=\"sk-estimator-id-1\" class=\"sk-toggleable__label sk-toggleable__label-arrow\">LinearRegression</label><div class=\"sk-toggleable__content\"><pre>LinearRegression()</pre></div></div></div></div></div>"
      ],
      "text/plain": [
       "LinearRegression()"
      ]
     },
     "execution_count": 37,
     "metadata": {},
     "output_type": "execute_result"
    }
   ],
   "source": [
    "model.fit(xtrain, ytrain)"
   ]
  },
  {
   "cell_type": "code",
   "execution_count": 39,
   "id": "fc65b653",
   "metadata": {},
   "outputs": [],
   "source": [
    "ypred = model.predict(xtest)"
   ]
  },
  {
   "cell_type": "code",
   "execution_count": 40,
   "id": "5791737e",
   "metadata": {},
   "outputs": [
    {
     "data": {
      "text/plain": [
       "((473, 3), (473,))"
      ]
     },
     "execution_count": 40,
     "metadata": {},
     "output_type": "execute_result"
    }
   ],
   "source": [
    "xtest.shape, ytest.shape"
   ]
  },
  {
   "cell_type": "code",
   "execution_count": 42,
   "id": "4d3cd5fb",
   "metadata": {},
   "outputs": [
    {
     "data": {
      "text/plain": [
       "Text(0, 0.5, 'Test Predicted Data')"
      ]
     },
     "execution_count": 42,
     "metadata": {},
     "output_type": "execute_result"
    },
    {
     "data": {
      "image/png": "[encoded data removed]",
      "text/plain": [
       "<Figure size 640x480 with 1 Axes>"
      ]
     },
     "metadata": {},
     "output_type": "display_data"
    }
   ],
   "source": [
    "plt.scatter(ytest, ypred)\n",
    "plt.xlabel(\"Test Truth Data\")\n",
    "plt.ylabel(\"Test Predicted Data\")"
   ]
  },
  {
   "cell_type": "code",
   "execution_count": 45,
   "id": "5111a3c3",
   "metadata": {},
   "outputs": [
    {
     "name": "stdout",
     "output_type": "stream",
     "text": [
      "Collecting xgboost\n",
      "  Downloading xgboost-3.0.2-py3-none-win_amd64.whl.metadata (2.1 kB)\n",
      "Requirement already satisfied: numpy in c:\\users\\susha\\downloads\\score-seer-insights-ui-main\\score-seer-insights-ui-main\\.conda\\lib\\site-packages (from xgboost) (1.24.3)\n",
      "Requirement already satisfied: scipy in c:\\users\\susha\\downloads\\score-seer-insights-ui-main\\score-seer-insights-ui-main\\.conda\\lib\\site-packages (from xgboost) (1.15.3)\n",
      "Downloading xgboost-3.0.2-py3-none-win_amd64.whl (150.0 MB)\n",
      "   ---------------------------------------- 0.0/150.0 MB ? eta -:--:--\n",
      "   ---------------------------------------- 0.3/150.0 MB ? eta -:--:--\n",
      "   ---------------------------------------- 0.8/150.0 MB 3.1 MB/s eta 0:00:49\n",
      "   ---------------------------------------- 1.3/150.0 MB 3.1 MB/s eta 0:00:49\n",
      "    --------------------------------------- 2.1/150.0 MB 3.2 MB/s eta 0:00:47\n",
      "    --------------------------------------- 2.9/150.0 MB 3.2 MB/s eta 0:00:46\n",
      "   - -------------------------------------- 3.9/150.0 MB 3.4 MB/s eta 0:00:43\n",
      "   - -------------------------------------- 4.5/150.0 MB 3.4 MB/s eta 0:00:43\n",
      "   - -------------------------------------- 5.5/150.0 MB 3.6 MB/s eta 0:00:41\n",
      "   - -------------------------------------- 6.6/150.0 MB 3.8 MB/s eta 0:00:38\n",
      "   - -------------------------------------- 7.3/150.0 MB 3.7 MB/s eta 0:00:39\n",
      "   -- ------------------------------------- 8.1/150.0 MB 3.8 MB/s eta 0:00:38\n",
      "   -- ------------------------------------- 8.7/150.0 MB 3.7 MB/s eta 0:00:39\n",
      "   -- ------------------------------------- 9.2/150.0 MB 3.8 MB/s eta 0:00:38\n",
      "   -- ------------------------------------- 10.0/150.0 MB 3.6 MB/s eta 0:00:39\n",
      "   --- ------------------------------------ 11.3/150.0 MB 3.7 MB/s eta 0:00:38\n",
      "   --- ------------------------------------ 12.1/150.0 MB 3.8 MB/s eta 0:00:37\n",
      "   --- ------------------------------------ 13.1/150.0 MB 3.8 MB/s eta 0:00:36\n",
      "   --- ------------------------------------ 14.2/150.0 MB 3.9 MB/s eta 0:00:35\n",
      "   --- ------------------------------------ 14.7/150.0 MB 3.9 MB/s eta 0:00:35\n",
      "   ---- ----------------------------------- 15.7/150.0 MB 3.9 MB/s eta 0:00:35\n",
      "   ---- ----------------------------------- 16.5/150.0 MB 3.9 MB/s eta 0:00:35\n",
      "   ---- ----------------------------------- 17.0/150.0 MB 3.8 MB/s eta 0:00:35\n",
      "   ---- ----------------------------------- 17.8/150.0 MB 3.8 MB/s eta 0:00:35\n",
      "   ---- ----------------------------------- 18.6/150.0 MB 3.8 MB/s eta 0:00:35\n",
      "   ----- ---------------------------------- 19.1/150.0 MB 3.7 MB/s eta 0:00:36\n",
      "   ----- ---------------------------------- 19.9/150.0 MB 3.7 MB/s eta 0:00:35\n",
      "   ----- ---------------------------------- 21.0/150.0 MB 3.8 MB/s eta 0:00:35\n",
      "   ----- ---------------------------------- 21.8/150.0 MB 3.8 MB/s eta 0:00:34\n",
      "   ------ --------------------------------- 22.8/150.0 MB 3.8 MB/s eta 0:00:34\n",
      "   ------ --------------------------------- 23.9/150.0 MB 3.9 MB/s eta 0:00:33\n",
      "   ------ --------------------------------- 24.6/150.0 MB 3.8 MB/s eta 0:00:33\n",
      "   ------ --------------------------------- 25.4/150.0 MB 3.9 MB/s eta 0:00:33\n",
      "   ------- -------------------------------- 27.3/150.0 MB 4.0 MB/s eta 0:00:31\n",
      "   ------- -------------------------------- 28.6/150.0 MB 4.1 MB/s eta 0:00:30\n",
      "   -------- ------------------------------- 30.1/150.0 MB 4.2 MB/s eta 0:00:29\n",
      "   -------- ------------------------------- 30.9/150.0 MB 4.2 MB/s eta 0:00:29\n",
      "   -------- ------------------------------- 32.0/150.0 MB 4.2 MB/s eta 0:00:28\n",
      "   -------- ------------------------------- 32.8/150.0 MB 4.2 MB/s eta 0:00:28\n",
      "   --------- ------------------------------ 33.8/150.0 MB 4.2 MB/s eta 0:00:28\n",
      "   --------- ------------------------------ 35.1/150.0 MB 4.2 MB/s eta 0:00:28\n",
      "   --------- ------------------------------ 36.7/150.0 MB 4.3 MB/s eta 0:00:27\n",
      "   ---------- ----------------------------- 38.3/150.0 MB 4.4 MB/s eta 0:00:26\n",
      "   ---------- ----------------------------- 40.1/150.0 MB 4.5 MB/s eta 0:00:25\n",
      "   ----------- ---------------------------- 41.7/150.0 MB 4.6 MB/s eta 0:00:24\n",
      "   ----------- ---------------------------- 43.5/150.0 MB 4.7 MB/s eta 0:00:23\n",
      "   ------------ --------------------------- 45.4/150.0 MB 4.7 MB/s eta 0:00:23\n",
      "   ------------ --------------------------- 47.2/150.0 MB 4.8 MB/s eta 0:00:22\n",
      "   ------------- -------------------------- 49.0/150.0 MB 4.9 MB/s eta 0:00:21\n",
      "   ------------- -------------------------- 50.3/150.0 MB 4.9 MB/s eta 0:00:21\n",
      "   ------------- -------------------------- 51.9/150.0 MB 5.0 MB/s eta 0:00:20\n",
      "   -------------- ------------------------- 53.5/150.0 MB 5.0 MB/s eta 0:00:20\n",
      "   -------------- ------------------------- 55.3/150.0 MB 5.1 MB/s eta 0:00:19\n",
      "   --------------- ------------------------ 56.9/150.0 MB 5.2 MB/s eta 0:00:19\n",
      "   --------------- ------------------------ 58.7/150.0 MB 5.2 MB/s eta 0:00:18\n",
      "   ---------------- ----------------------- 60.6/150.0 MB 5.3 MB/s eta 0:00:17\n",
      "   ---------------- ----------------------- 62.4/150.0 MB 5.3 MB/s eta 0:00:17\n",
      "   ----------------- ---------------------- 64.0/150.0 MB 5.4 MB/s eta 0:00:16\n",
      "   ----------------- ---------------------- 65.8/150.0 MB 5.4 MB/s eta 0:00:16\n",
      "   ----------------- ---------------------- 66.6/150.0 MB 5.4 MB/s eta 0:00:16\n",
      "   ----------------- ---------------------- 67.1/150.0 MB 5.4 MB/s eta 0:00:16\n",
      "   ------------------ --------------------- 67.9/150.0 MB 5.4 MB/s eta 0:00:16\n",
      "   ------------------ --------------------- 68.7/150.0 MB 5.3 MB/s eta 0:00:16\n",
      "   ------------------ --------------------- 69.7/150.0 MB 5.3 MB/s eta 0:00:16\n",
      "   ------------------- -------------------- 71.8/150.0 MB 5.4 MB/s eta 0:00:15\n",
      "   ------------------- -------------------- 73.4/150.0 MB 5.4 MB/s eta 0:00:15\n",
      "   -------------------- ------------------- 75.2/150.0 MB 5.5 MB/s eta 0:00:14\n",
      "   -------------------- ------------------- 77.1/150.0 MB 5.5 MB/s eta 0:00:14\n",
      "   -------------------- ------------------- 78.6/150.0 MB 5.5 MB/s eta 0:00:13\n",
      "   --------------------- ------------------ 80.5/150.0 MB 5.6 MB/s eta 0:00:13\n",
      "   ---------------------- ----------------- 82.6/150.0 MB 5.6 MB/s eta 0:00:12\n",
      "   ---------------------- ----------------- 84.1/150.0 MB 5.7 MB/s eta 0:00:12\n",
      "   ---------------------- ----------------- 85.7/150.0 MB 5.7 MB/s eta 0:00:12\n",
      "   ----------------------- ---------------- 87.3/150.0 MB 5.7 MB/s eta 0:00:11\n",
      "   ----------------------- ---------------- 89.1/150.0 MB 5.8 MB/s eta 0:00:11\n",
      "   ------------------------ --------------- 91.2/150.0 MB 5.8 MB/s eta 0:00:11\n",
      "   ------------------------ --------------- 92.8/150.0 MB 5.8 MB/s eta 0:00:10\n",
      "   ------------------------- -------------- 94.6/150.0 MB 5.9 MB/s eta 0:00:10\n",
      "   ------------------------- -------------- 96.5/150.0 MB 5.9 MB/s eta 0:00:10\n",
      "   -------------------------- ------------- 98.3/150.0 MB 5.9 MB/s eta 0:00:09\n",
      "   -------------------------- ------------- 99.9/150.0 MB 6.0 MB/s eta 0:00:09\n",
      "   --------------------------- ------------ 101.7/150.0 MB 6.0 MB/s eta 0:00:09\n",
      "   --------------------------- ------------ 103.5/150.0 MB 6.0 MB/s eta 0:00:08\n",
      "   ---------------------------- ----------- 105.4/150.0 MB 6.1 MB/s eta 0:00:08\n",
      "   ---------------------------- ----------- 107.2/150.0 MB 6.1 MB/s eta 0:00:08\n",
      "   ----------------------------- ---------- 109.1/150.0 MB 6.1 MB/s eta 0:00:07\n",
      "   ----------------------------- ---------- 110.6/150.0 MB 6.1 MB/s eta 0:00:07\n",
      "   ------------------------------ --------- 112.7/150.0 MB 6.2 MB/s eta 0:00:07\n",
      "   ------------------------------ --------- 114.6/150.0 MB 6.2 MB/s eta 0:00:06\n",
      "   ------------------------------- -------- 116.4/150.0 MB 6.2 MB/s eta 0:00:06\n",
      "   ------------------------------- -------- 118.2/150.0 MB 6.3 MB/s eta 0:00:06\n",
      "   -------------------------------- ------- 120.3/150.0 MB 6.3 MB/s eta 0:00:05\n",
      "   -------------------------------- ------- 121.6/150.0 MB 6.3 MB/s eta 0:00:05\n",
      "   -------------------------------- ------- 123.5/150.0 MB 6.3 MB/s eta 0:00:05\n",
      "   --------------------------------- ------ 125.0/150.0 MB 6.3 MB/s eta 0:00:04\n",
      "   --------------------------------- ------ 127.1/150.0 MB 6.4 MB/s eta 0:00:04\n",
      "   ---------------------------------- ----- 128.7/150.0 MB 6.4 MB/s eta 0:00:04\n",
      "   ---------------------------------- ----- 130.5/150.0 MB 6.4 MB/s eta 0:00:04\n",
      "   ----------------------------------- ---- 132.1/150.0 MB 6.4 MB/s eta 0:00:03\n",
      "   ----------------------------------- ---- 134.0/150.0 MB 6.4 MB/s eta 0:00:03\n",
      "   ------------------------------------ --- 135.5/150.0 MB 6.5 MB/s eta 0:00:03\n",
      "   ------------------------------------ --- 137.4/150.0 MB 6.5 MB/s eta 0:00:02\n",
      "   ------------------------------------- -- 139.2/150.0 MB 6.5 MB/s eta 0:00:02\n",
      "   ------------------------------------- -- 141.0/150.0 MB 6.5 MB/s eta 0:00:02\n",
      "   -------------------------------------- - 142.9/150.0 MB 6.5 MB/s eta 0:00:02\n",
      "   -------------------------------------- - 145.0/150.0 MB 6.6 MB/s eta 0:00:01\n",
      "   ---------------------------------------  146.5/150.0 MB 6.6 MB/s eta 0:00:01\n",
      "   ---------------------------------------  147.3/150.0 MB 6.5 MB/s eta 0:00:01\n",
      "   ---------------------------------------  148.1/150.0 MB 6.5 MB/s eta 0:00:01\n",
      "   ---------------------------------------  148.9/150.0 MB 6.5 MB/s eta 0:00:01\n",
      "   ---------------------------------------  149.4/150.0 MB 6.5 MB/s eta 0:00:01\n",
      "   ---------------------------------------  149.9/150.0 MB 6.5 MB/s eta 0:00:01\n",
      "   ---------------------------------------- 150.0/150.0 MB 6.4 MB/s eta 0:00:00\n",
      "Installing collected packages: xgboost\n",
      "Successfully installed xgboost-3.0.2\n"
     ]
    }
   ],
   "source": [
    "!pip install xgboost"
   ]
  },
  {
   "cell_type": "code",
   "execution_count": 46,
   "id": "b9f08ad9",
   "metadata": {},
   "outputs": [],
   "source": [
    "from sklearn.linear_model import LogisticRegression\n",
    "from sklearn.svm import SVC \n",
    "from sklearn.neighbors import KNeighborsClassifier\n",
    "from sklearn.ensemble import RandomForestClassifier\n",
    "import xgboost as xgb\n",
    "from sklearn.naive_bayes import GaussianNB\n",
    "\n",
    "from sklearn.model_selection import train_test_split\n",
    "from sklearn.preprocessing import StandardScaler\n",
    "from sklearn.metrics import accuracy_score"
   ]
  },
  {
   "cell_type": "code",
   "execution_count": 53,
   "id": "3965ad08",
   "metadata": {},
   "outputs": [
    {
     "name": "stdout",
     "output_type": "stream",
     "text": [
      "Accuracy: 0.02959830866807611\n"
     ]
    }
   ],
   "source": [
    "model = LogisticRegression()\n",
    "model.fit(xtrain,ytrain)\n",
    "ypred = model.predict(xtest)\n",
    "accuracy = accuracy_score(ytest, ypred)\n",
    "print(\"Accuracy:\", accuracy) "
   ]
  },
  {
   "cell_type": "code",
   "execution_count": 48,
   "id": "953631c8",
   "metadata": {},
   "outputs": [
    {
     "name": "stdout",
     "output_type": "stream",
     "text": [
      "Accuracy: 0.021141649048625793\n"
     ]
    }
   ],
   "source": [
    "model = SVC()\n",
    "model.fit(xtrain,ytrain)\n",
    "ypred = model.predict(xtest)\n",
    "accuracy = accuracy_score(ytest, ypred)\n",
    "print(\"Accuracy:\", accuracy) "
   ]
  },
  {
   "cell_type": "code",
   "execution_count": 49,
   "id": "bd58e1c8",
   "metadata": {},
   "outputs": [
    {
     "name": "stdout",
     "output_type": "stream",
     "text": [
      "Accuracy: 0.021141649048625793\n"
     ]
    }
   ],
   "source": [
    "model = KNeighborsClassifier(n_neighbors=3)\n",
    "model.fit(xtrain,ytrain)\n",
    "ypred = model.predict(xtest)\n",
    "accuracy = accuracy_score(ytest, ypred)\n",
    "print(\"Accuracy:\", accuracy) "
   ]
  },
  {
   "cell_type": "code",
   "execution_count": 50,
   "id": "8e68985c",
   "metadata": {},
   "outputs": [
    {
     "name": "stdout",
     "output_type": "stream",
     "text": [
      "Accuracy: 0.02748414376321353\n"
     ]
    }
   ],
   "source": [
    "model = GaussianNB()\n",
    "model.fit(xtrain,ytrain)\n",
    "ypred = model.predict(xtest)\n",
    "accuracy = accuracy_score(ytest, ypred)\n",
    "print(\"Accuracy:\", accuracy) "
   ]
  },
  {
   "cell_type": "code",
   "execution_count": 52,
   "id": "051cfb9b",
   "metadata": {},
   "outputs": [
    {
     "name": "stdout",
     "output_type": "stream",
     "text": [
      "Accuracy: 0.016913319238900635\n"
     ]
    }
   ],
   "source": [
    "model = RandomForestClassifier(n_estimators=100)\n",
    "model.fit(xtrain,ytrain)\n",
    "ypred = model.predict(xtest)\n",
    "accuracy = accuracy_score(ytest, ypred)\n",
    "print(\"Accuracy:\", accuracy) "
   ]
  },
  {
   "cell_type": "code",
   "execution_count": null,
   "id": "f8a6c72f",
   "metadata": {},
   "outputs": [],
   "source": []
  }
 ],
 "metadata": {
  "kernelspec": {
   "display_name": "Python 3",
   "language": "python",
   "name": "python3"
  },
  "language_info": {
   "codemirror_mode": {
    "name": "ipython",
    "version": 3
   },
   "file_extension": ".py",
   "mimetype": "text/x-python",
   "name": "python",
   "nbconvert_exporter": "python",
   "pygments_lexer": "ipython3",
   "version": "3.11.13"
  }
 },
 "nbformat": 4,
 "nbformat_minor": 5
}
