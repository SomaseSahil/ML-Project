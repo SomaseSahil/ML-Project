{
 "cells": [
  {
   "cell_type": "code",
   "execution_count": 21,
   "id": "310a03b1",
   "metadata": {},
   "outputs": [],
   "source": [
    "import pandas as pd\n",
    "import numpy as np\n",
    "from sklearn.model_selection import train_test_split\n",
    "from sklearn.pipeline import Pipeline\n",
    "from sklearn.preprocessing import StandardScaler, OneHotEncoder\n",
    "from sklearn.compose import ColumnTransformer\n",
    "from sklearn.ensemble import GradientBoostingRegressor\n",
    "import pickle"
   ]
  },
  {
   "cell_type": "code",
   "execution_count": 22,
   "id": "b7aa21fb",
   "metadata": {},
   "outputs": [],
   "source": [
    "# 1. Load Dataset\n",
    "df = pd.read_csv(\"../dataset/StudentExamScores1.csv\")"
   ]
  },
  {
   "cell_type": "code",
   "execution_count": 23,
   "id": "3df83e23",
   "metadata": {},
   "outputs": [],
   "source": [
    "# 2. Define Features\n",
    "target = 'Exam_Score'\n",
    "numerical_features = ['Hours_Studied', 'Attendance', 'Sleep_Hours', 'Previous_Scores',\n",
    "                      'Tutoring_Sessions', 'Physical_Activity']\n",
    "categorical_features = [col for col in df.columns if col not in numerical_features + [target]]"
   ]
  },
  {
   "cell_type": "code",
   "execution_count": 24,
   "id": "f3aedb6e",
   "metadata": {},
   "outputs": [],
   "source": [
    "# 3. Split Data\n",
    "X = df.drop(columns=target)\n",
    "y = df[target]\n",
    "X_train, X_test, y_train, y_test = train_test_split(X, y, test_size=0.2, random_state=42)"
   ]
  },
  {
   "cell_type": "code",
   "execution_count": 25,
   "id": "e21d5043",
   "metadata": {},
   "outputs": [],
   "source": [
    "# 4. Preprocessing Pipelines\n",
    "numerical_transformer = StandardScaler()\n",
    "categorical_transformer = OneHotEncoder(handle_unknown='ignore')\n",
    "\n",
    "preprocessor = ColumnTransformer(\n",
    "    transformers=[\n",
    "        ('num', numerical_transformer, numerical_features),\n",
    "        ('cat', categorical_transformer, categorical_features)\n",
    "    ]\n",
    ")"
   ]
  },
  {
   "cell_type": "code",
   "execution_count": 26,
   "id": "415e134b",
   "metadata": {},
   "outputs": [],
   "source": [
    "# 5. Build Pipeline with Gradient Boosting Regressor\n",
    "model = GradientBoostingRegressor(n_estimators=200, learning_rate=0.1, max_depth=5, random_state=42)\n",
    "\n",
    "pipeline = Pipeline(steps=[\n",
    "    ('preprocessor', preprocessor),\n",
    "    ('regressor', model)\n",
    "])"
   ]
  },
  {
   "cell_type": "code",
   "execution_count": 27,
   "id": "b6db7c9c",
   "metadata": {},
   "outputs": [
    {
     "data": {
      "text/html": [
       "<style>#sk-container-id-1 {color: black;}#sk-container-id-1 pre{padding: 0;}#sk-container-id-1 div.sk-toggleable {background-color: white;}#sk-container-id-1 label.sk-toggleable__label {cursor: pointer;display: block;width: 100%;margin-bottom: 0;padding: 0.3em;box-sizing: border-box;text-align: center;}#sk-container-id-1 label.sk-toggleable__label-arrow:before {content: \"▸\";float: left;margin-right: 0.25em;color: #696969;}#sk-container-id-1 label.sk-toggleable__label-arrow:hover:before {color: black;}#sk-container-id-1 div.sk-estimator:hover label.sk-toggleable__label-arrow:before {color: black;}#sk-container-id-1 div.sk-toggleable__content {max-height: 0;max-width: 0;overflow: hidden;text-align: left;background-color: #f0f8ff;}#sk-container-id-1 div.sk-toggleable__content pre {margin: 0.2em;color: black;border-radius: 0.25em;background-color: #f0f8ff;}#sk-container-id-1 input.sk-toggleable__control:checked~div.sk-toggleable__content {max-height: 200px;max-width: 100%;overflow: auto;}#sk-container-id-1 input.sk-toggleable__control:checked~label.sk-toggleable__label-arrow:before {content: \"▾\";}#sk-container-id-1 div.sk-estimator input.sk-toggleable__control:checked~label.sk-toggleable__label {background-color: #d4ebff;}#sk-container-id-1 div.sk-label input.sk-toggleable__control:checked~label.sk-toggleable__label {background-color: #d4ebff;}#sk-container-id-1 input.sk-hidden--visually {border: 0;clip: rect(1px 1px 1px 1px);clip: rect(1px, 1px, 1px, 1px);height: 1px;margin: -1px;overflow: hidden;padding: 0;position: absolute;width: 1px;}#sk-container-id-1 div.sk-estimator {font-family: monospace;background-color: #f0f8ff;border: 1px dotted black;border-radius: 0.25em;box-sizing: border-box;margin-bottom: 0.5em;}#sk-container-id-1 div.sk-estimator:hover {background-color: #d4ebff;}#sk-container-id-1 div.sk-parallel-item::after {content: \"\";width: 100%;border-bottom: 1px solid gray;flex-grow: 1;}#sk-container-id-1 div.sk-label:hover label.sk-toggleable__label {background-color: #d4ebff;}#sk-container-id-1 div.sk-serial::before {content: \"\";position: absolute;border-left: 1px solid gray;box-sizing: border-box;top: 0;bottom: 0;left: 50%;z-index: 0;}#sk-container-id-1 div.sk-serial {display: flex;flex-direction: column;align-items: center;background-color: white;padding-right: 0.2em;padding-left: 0.2em;position: relative;}#sk-container-id-1 div.sk-item {position: relative;z-index: 1;}#sk-container-id-1 div.sk-parallel {display: flex;align-items: stretch;justify-content: center;background-color: white;position: relative;}#sk-container-id-1 div.sk-item::before, #sk-container-id-1 div.sk-parallel-item::before {content: \"\";position: absolute;border-left: 1px solid gray;box-sizing: border-box;top: 0;bottom: 0;left: 50%;z-index: -1;}#sk-container-id-1 div.sk-parallel-item {display: flex;flex-direction: column;z-index: 1;position: relative;background-color: white;}#sk-container-id-1 div.sk-parallel-item:first-child::after {align-self: flex-end;width: 50%;}#sk-container-id-1 div.sk-parallel-item:last-child::after {align-self: flex-start;width: 50%;}#sk-container-id-1 div.sk-parallel-item:only-child::after {width: 0;}#sk-container-id-1 div.sk-dashed-wrapped {border: 1px dashed gray;margin: 0 0.4em 0.5em 0.4em;box-sizing: border-box;padding-bottom: 0.4em;background-color: white;}#sk-container-id-1 div.sk-label label {font-family: monospace;font-weight: bold;display: inline-block;line-height: 1.2em;}#sk-container-id-1 div.sk-label-container {text-align: center;}#sk-container-id-1 div.sk-container {/* jupyter's `normalize.less` sets `[hidden] { display: none; }` but bootstrap.min.css set `[hidden] { display: none !important; }` so we also need the `!important` here to be able to override the default hidden behavior on the sphinx rendered scikit-learn.org. See: https://github.com/scikit-learn/scikit-learn/issues/21755 */display: inline-block !important;position: relative;}#sk-container-id-1 div.sk-text-repr-fallback {display: none;}</style><div id=\"sk-container-id-1\" class=\"sk-top-container\"><div class=\"sk-text-repr-fallback\"><pre>Pipeline(steps=[(&#x27;preprocessor&#x27;,\n",
       "                 ColumnTransformer(transformers=[(&#x27;num&#x27;, StandardScaler(),\n",
       "                                                  [&#x27;Hours_Studied&#x27;,\n",
       "                                                   &#x27;Attendance&#x27;, &#x27;Sleep_Hours&#x27;,\n",
       "                                                   &#x27;Previous_Scores&#x27;,\n",
       "                                                   &#x27;Tutoring_Sessions&#x27;,\n",
       "                                                   &#x27;Physical_Activity&#x27;]),\n",
       "                                                 (&#x27;cat&#x27;,\n",
       "                                                  OneHotEncoder(handle_unknown=&#x27;ignore&#x27;),\n",
       "                                                  [&#x27;Parental_Involvement&#x27;,\n",
       "                                                   &#x27;Access_to_Resources&#x27;,\n",
       "                                                   &#x27;Extracurricular_Activities&#x27;,\n",
       "                                                   &#x27;Motivation_Level&#x27;,\n",
       "                                                   &#x27;Internet_Access&#x27;,\n",
       "                                                   &#x27;Family_Income&#x27;,\n",
       "                                                   &#x27;Teacher_Quality&#x27;,\n",
       "                                                   &#x27;School_Type&#x27;,\n",
       "                                                   &#x27;Peer_Influence&#x27;,\n",
       "                                                   &#x27;Learning_Disabilities&#x27;,\n",
       "                                                   &#x27;Parental_Education_Level&#x27;,\n",
       "                                                   &#x27;Distance_from_Home&#x27;,\n",
       "                                                   &#x27;Gender&#x27;])])),\n",
       "                (&#x27;regressor&#x27;,\n",
       "                 GradientBoostingRegressor(max_depth=5, n_estimators=200,\n",
       "                                           random_state=42))])</pre><b>In a Jupyter environment, please rerun this cell to show the HTML representation or trust the notebook. <br />On GitHub, the HTML representation is unable to render, please try loading this page with nbviewer.org.</b></div><div class=\"sk-container\" hidden><div class=\"sk-item sk-dashed-wrapped\"><div class=\"sk-label-container\"><div class=\"sk-label sk-toggleable\"><input class=\"sk-toggleable__control sk-hidden--visually\" id=\"sk-estimator-id-1\" type=\"checkbox\" ><label for=\"sk-estimator-id-1\" class=\"sk-toggleable__label sk-toggleable__label-arrow\">Pipeline</label><div class=\"sk-toggleable__content\"><pre>Pipeline(steps=[(&#x27;preprocessor&#x27;,\n",
       "                 ColumnTransformer(transformers=[(&#x27;num&#x27;, StandardScaler(),\n",
       "                                                  [&#x27;Hours_Studied&#x27;,\n",
       "                                                   &#x27;Attendance&#x27;, &#x27;Sleep_Hours&#x27;,\n",
       "                                                   &#x27;Previous_Scores&#x27;,\n",
       "                                                   &#x27;Tutoring_Sessions&#x27;,\n",
       "                                                   &#x27;Physical_Activity&#x27;]),\n",
       "                                                 (&#x27;cat&#x27;,\n",
       "                                                  OneHotEncoder(handle_unknown=&#x27;ignore&#x27;),\n",
       "                                                  [&#x27;Parental_Involvement&#x27;,\n",
       "                                                   &#x27;Access_to_Resources&#x27;,\n",
       "                                                   &#x27;Extracurricular_Activities&#x27;,\n",
       "                                                   &#x27;Motivation_Level&#x27;,\n",
       "                                                   &#x27;Internet_Access&#x27;,\n",
       "                                                   &#x27;Family_Income&#x27;,\n",
       "                                                   &#x27;Teacher_Quality&#x27;,\n",
       "                                                   &#x27;School_Type&#x27;,\n",
       "                                                   &#x27;Peer_Influence&#x27;,\n",
       "                                                   &#x27;Learning_Disabilities&#x27;,\n",
       "                                                   &#x27;Parental_Education_Level&#x27;,\n",
       "                                                   &#x27;Distance_from_Home&#x27;,\n",
       "                                                   &#x27;Gender&#x27;])])),\n",
       "                (&#x27;regressor&#x27;,\n",
       "                 GradientBoostingRegressor(max_depth=5, n_estimators=200,\n",
       "                                           random_state=42))])</pre></div></div></div><div class=\"sk-serial\"><div class=\"sk-item sk-dashed-wrapped\"><div class=\"sk-label-container\"><div class=\"sk-label sk-toggleable\"><input class=\"sk-toggleable__control sk-hidden--visually\" id=\"sk-estimator-id-2\" type=\"checkbox\" ><label for=\"sk-estimator-id-2\" class=\"sk-toggleable__label sk-toggleable__label-arrow\">preprocessor: ColumnTransformer</label><div class=\"sk-toggleable__content\"><pre>ColumnTransformer(transformers=[(&#x27;num&#x27;, StandardScaler(),\n",
       "                                 [&#x27;Hours_Studied&#x27;, &#x27;Attendance&#x27;, &#x27;Sleep_Hours&#x27;,\n",
       "                                  &#x27;Previous_Scores&#x27;, &#x27;Tutoring_Sessions&#x27;,\n",
       "                                  &#x27;Physical_Activity&#x27;]),\n",
       "                                (&#x27;cat&#x27;, OneHotEncoder(handle_unknown=&#x27;ignore&#x27;),\n",
       "                                 [&#x27;Parental_Involvement&#x27;, &#x27;Access_to_Resources&#x27;,\n",
       "                                  &#x27;Extracurricular_Activities&#x27;,\n",
       "                                  &#x27;Motivation_Level&#x27;, &#x27;Internet_Access&#x27;,\n",
       "                                  &#x27;Family_Income&#x27;, &#x27;Teacher_Quality&#x27;,\n",
       "                                  &#x27;School_Type&#x27;, &#x27;Peer_Influence&#x27;,\n",
       "                                  &#x27;Learning_Disabilities&#x27;,\n",
       "                                  &#x27;Parental_Education_Level&#x27;,\n",
       "                                  &#x27;Distance_from_Home&#x27;, &#x27;Gender&#x27;])])</pre></div></div></div><div class=\"sk-parallel\"><div class=\"sk-parallel-item\"><div class=\"sk-item\"><div class=\"sk-label-container\"><div class=\"sk-label sk-toggleable\"><input class=\"sk-toggleable__control sk-hidden--visually\" id=\"sk-estimator-id-3\" type=\"checkbox\" ><label for=\"sk-estimator-id-3\" class=\"sk-toggleable__label sk-toggleable__label-arrow\">num</label><div class=\"sk-toggleable__content\"><pre>[&#x27;Hours_Studied&#x27;, &#x27;Attendance&#x27;, &#x27;Sleep_Hours&#x27;, &#x27;Previous_Scores&#x27;, &#x27;Tutoring_Sessions&#x27;, &#x27;Physical_Activity&#x27;]</pre></div></div></div><div class=\"sk-serial\"><div class=\"sk-item\"><div class=\"sk-estimator sk-toggleable\"><input class=\"sk-toggleable__control sk-hidden--visually\" id=\"sk-estimator-id-4\" type=\"checkbox\" ><label for=\"sk-estimator-id-4\" class=\"sk-toggleable__label sk-toggleable__label-arrow\">StandardScaler</label><div class=\"sk-toggleable__content\"><pre>StandardScaler()</pre></div></div></div></div></div></div><div class=\"sk-parallel-item\"><div class=\"sk-item\"><div class=\"sk-label-container\"><div class=\"sk-label sk-toggleable\"><input class=\"sk-toggleable__control sk-hidden--visually\" id=\"sk-estimator-id-5\" type=\"checkbox\" ><label for=\"sk-estimator-id-5\" class=\"sk-toggleable__label sk-toggleable__label-arrow\">cat</label><div class=\"sk-toggleable__content\"><pre>[&#x27;Parental_Involvement&#x27;, &#x27;Access_to_Resources&#x27;, &#x27;Extracurricular_Activities&#x27;, &#x27;Motivation_Level&#x27;, &#x27;Internet_Access&#x27;, &#x27;Family_Income&#x27;, &#x27;Teacher_Quality&#x27;, &#x27;School_Type&#x27;, &#x27;Peer_Influence&#x27;, &#x27;Learning_Disabilities&#x27;, &#x27;Parental_Education_Level&#x27;, &#x27;Distance_from_Home&#x27;, &#x27;Gender&#x27;]</pre></div></div></div><div class=\"sk-serial\"><div class=\"sk-item\"><div class=\"sk-estimator sk-toggleable\"><input class=\"sk-toggleable__control sk-hidden--visually\" id=\"sk-estimator-id-6\" type=\"checkbox\" ><label for=\"sk-estimator-id-6\" class=\"sk-toggleable__label sk-toggleable__label-arrow\">OneHotEncoder</label><div class=\"sk-toggleable__content\"><pre>OneHotEncoder(handle_unknown=&#x27;ignore&#x27;)</pre></div></div></div></div></div></div></div></div><div class=\"sk-item\"><div class=\"sk-estimator sk-toggleable\"><input class=\"sk-toggleable__control sk-hidden--visually\" id=\"sk-estimator-id-7\" type=\"checkbox\" ><label for=\"sk-estimator-id-7\" class=\"sk-toggleable__label sk-toggleable__label-arrow\">GradientBoostingRegressor</label><div class=\"sk-toggleable__content\"><pre>GradientBoostingRegressor(max_depth=5, n_estimators=200, random_state=42)</pre></div></div></div></div></div></div></div>"
      ],
      "text/plain": [
       "Pipeline(steps=[('preprocessor',\n",
       "                 ColumnTransformer(transformers=[('num', StandardScaler(),\n",
       "                                                  ['Hours_Studied',\n",
       "                                                   'Attendance', 'Sleep_Hours',\n",
       "                                                   'Previous_Scores',\n",
       "                                                   'Tutoring_Sessions',\n",
       "                                                   'Physical_Activity']),\n",
       "                                                 ('cat',\n",
       "                                                  OneHotEncoder(handle_unknown='ignore'),\n",
       "                                                  ['Parental_Involvement',\n",
       "                                                   'Access_to_Resources',\n",
       "                                                   'Extracurricular_Activities',\n",
       "                                                   'Motivation_Level',\n",
       "                                                   'Internet_Access',\n",
       "                                                   'Family_Income',\n",
       "                                                   'Teacher_Quality',\n",
       "                                                   'School_Type',\n",
       "                                                   'Peer_Influence',\n",
       "                                                   'Learning_Disabilities',\n",
       "                                                   'Parental_Education_Level',\n",
       "                                                   'Distance_from_Home',\n",
       "                                                   'Gender'])])),\n",
       "                ('regressor',\n",
       "                 GradientBoostingRegressor(max_depth=5, n_estimators=200,\n",
       "                                           random_state=42))])"
      ]
     },
     "execution_count": 27,
     "metadata": {},
     "output_type": "execute_result"
    }
   ],
   "source": [
    "# 6. Train Model\n",
    "pipeline.fit(X_train, y_train)"
   ]
  },
  {
   "cell_type": "code",
   "execution_count": 28,
   "id": "229dfd59",
   "metadata": {},
   "outputs": [
    {
     "name": "stdout",
     "output_type": "stream",
     "text": [
      "Model trained and saved successfully.\n"
     ]
    }
   ],
   "source": [
    "# 7. Save Trained Pipeline\n",
    "with open(\"../models/student_score_model.pkl\", \"wb\") as f:\n",
    "    pickle.dump(pipeline, f)\n",
    "\n",
    "print(\"Model trained and saved successfully.\")"
   ]
  },
  {
   "cell_type": "code",
   "execution_count": null,
   "id": "33a45927",
   "metadata": {},
   "outputs": [],
   "source": []
  }
 ],
 "metadata": {
  "kernelspec": {
   "display_name": "Python 3",
   "language": "python",
   "name": "python3"
  },
  "language_info": {
   "codemirror_mode": {
    "name": "ipython",
    "version": 3
   },
   "file_extension": ".py",
   "mimetype": "text/x-python",
   "name": "python",
   "nbconvert_exporter": "python",
   "pygments_lexer": "ipython3",
   "version": "3.10.0"
  }
 },
 "nbformat": 4,
 "nbformat_minor": 5
}
